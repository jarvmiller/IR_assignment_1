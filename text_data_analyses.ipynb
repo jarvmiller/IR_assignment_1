{
 "cells": [
  {
   "cell_type": "markdown",
   "metadata": {},
   "source": [
    "# Jarvis Miller\n",
    "# SI 650 HW 1"
   ]
  },
  {
   "cell_type": "markdown",
   "metadata": {},
   "source": [
    "# Question 1"
   ]
  },
  {
   "cell_type": "markdown",
   "metadata": {},
   "source": [
    "### Part A\n",
    "- Precision: 8/16 = .5\n",
    "- Recall: 8/10 = .4\n",
    "- MAP: (1 + 2/3 + 3/5 + 4/6 + 5/10 + 6/11 + 7/14 + 8/10 + 0 + 0) / 10 = .52788\n",
    "- $F_{1} = \\frac{2PR}{P+R} =  \\frac{2*.5*.8}{.13}$ = .615385\n"
   ]
  },
  {
   "cell_type": "markdown",
   "metadata": {},
   "source": [
    "### Part B\n",
    "- CG = 2 + 2 + 1 + 1 + 2 = 8\n",
    "- DCG = $2 + 0 + \\frac{2}{log_{2}(3)} + 0 + \\frac{1}{log_{2}(5)} + \\frac{1}{log_{2}(6)} + 0 + 0 + 0 + \\frac{2}{log_{2}(10)}$ = 4.68145 \n",
    "- nDCG = $\\frac{DCG}{IDCG} = \\frac{4.68145}{6.19254} = 0.6023166$\n",
    "    - Where IDCG = $2 + \\frac{2}{log_{2}(2)} + \\frac{2}{log_{2}(3)} + \\frac{2}{log_{2}(4)} + \\frac{1}{log_{2}(5)}+ \\frac{1}{log_{2}(6)} + \\frac{1}{log_{2}(7)} + \\frac{1}{log_{2}(8)} = 7.77$ "
   ]
  },
  {
   "cell_type": "markdown",
   "metadata": {},
   "source": [
    "# Question 2"
   ]
  },
  {
   "cell_type": "markdown",
   "metadata": {},
   "source": [
    "#### Part A\n",
    "| Y|P(H=1;Y)| P(U=1;Y) | P(L=1;Y)| P(Y) |\n",
    "|----: | ------ |:--------:| -------:|-----:|\n",
    "| 1| 0.667   | 0.833    | .33     | .5   |\n",
    "| 0| 0.333  | .5       |   .33    | .5  |\n"
   ]
  },
  {
   "cell_type": "markdown",
   "metadata": {},
   "source": [
    "#### Part B\n",
    "$P(Y=1|H=0, U=1, L=0) = \\frac{P(Y=1)P(H=0|Y=1)P(U=1|Y=1)P(L=0|Y=1)}{P(H=0, U=1, L=0|Y=0)P(Y=0) + P(H=0, U=1, L=0|Y=1)P(Y=1)}$\n",
    "$= \\frac{.092} {.5(1-.33)(.5)(1-.33) + (1-.67)(.833)(1-.33).5} = .379$\n",
    "\n",
    "Similarly, $P(Y=0|H=0, U=1, L=0) = \\frac{P(Y=0)P(H=0|Y=0)P(U=1|Y=0)P(L=0|Y=0)} {.5(1-.33)(.5)(1-.33) + (1-.67)(.833)(1-.33).5} = 0.4574827$\n",
    "\n",
    "Based on this, we should not classify the message as spam"
   ]
  },
  {
   "cell_type": "markdown",
   "metadata": {},
   "source": [
    "#### Part C\n",
    "The results are the not the same. This is because we are going directly by the table and ignoring conditional probability. The number of times that we have the event $H=0, U=1, L=0$ is twice. One is when $Y=1$ and the other when $Y=0$. Thus, going by the 12 examples ignoring the conditional independence, $P(Y=1|H=0, U=1, L=0) = \\frac{1}{2} = P(Y=0|H=0, U=1, L=0)$ This essentially \"squeezes\" these events together, whereas with part b, if we knew a value of y and a value of H, we didn't necessarily know the value of U or L. So the probabilities are different.\n"
   ]
  },
  {
   "cell_type": "markdown",
   "metadata": {},
   "source": [
    "#### Part D\n",
    "You have to follow the properties of a probability measure. For example, \n",
    "$P(H=0, U=1, L=0) = P(H=0, U=1, L=0|Y=0) + P(H=0, U=1, L=0|Y=1)$\n",
    "$= P(H=0|Y=0)P(U=1|Y=0)P(L=0|Y=0) + P(H=0|Y=1)P(U=1|Y=1)P(L=0|Y=1)$\n",
    "\n",
    "If we put all values = .999, then the sum would be greater than one. But $P:\\Omega \\to [0,1]$ so probabilities can't have a value greater than 1"
   ]
  },
  {
   "cell_type": "markdown",
   "metadata": {},
   "source": [
    "#### Part E\n",
    "Sure, make H=0 in row 2. This makes \n",
    "\n",
    "$P(Y=1|H=0, U=1, L=0) \\frac{P(Y=1, H=1, U=1, L=0)}{P(H=0, U=1, L=0|Y=0) + P(H=0, U=1, L=0|Y=0)}$\n",
    "$= \\frac{0.1388889} {(2/3)(1/2)(2/3) + (1/2)(5/6)(2/3)} = .277$\n",
    "\n",
    "But, for $P(Y=0|H=0, U=1, L=0)$, the numerator is $0.1111111$ and the denominator is the same as above, so $P(Y=1|H=0, U=1, L=0) > P(Y=0|H=0, U=1, L=0)$ meaning we categorize as spam"
   ]
  },
  {
   "cell_type": "markdown",
   "metadata": {},
   "source": [
    "#### Part F\n",
    "We would need 15 specifications, For $Y = 0$, we have U, L, H $\\in$ {0,1}, So there are $2^3 = 8$ different combinations. Same for $Y = 1$ hence there are 16 specifications for $P(H, U, L| Y)$. However, probabilities must add to one so we can find the 16th using 1-sum(15 specified probabilities). "
   ]
  },
  {
   "cell_type": "markdown",
   "metadata": {},
   "source": [
    "#### Part F\n",
    "Just because if you know whether a message is a spam or not, the event of a local number and the event of a long message isn't necessarily independent. Spam messages can come from local and non local numbers and be short or long, same for nonspam messages."
   ]
  },
  {
   "cell_type": "code",
   "execution_count": null,
   "metadata": {},
   "outputs": [],
   "source": []
  },
  {
   "cell_type": "code",
   "execution_count": null,
   "metadata": {},
   "outputs": [],
   "source": []
  },
  {
   "cell_type": "markdown",
   "metadata": {},
   "source": [
    "# Question 3"
   ]
  },
  {
   "cell_type": "markdown",
   "metadata": {},
   "source": [
    "## Context\n",
    "In this exercise, we are going to get our hands dirty and play with some data in the wild. Download two\n",
    "collections from Canvas, ehr.txt and medhelp.txt. The first collection are sampled electronic health\n",
    "records (de-identified) released in TREC CDS 2016, with 90 documents in total. The second collection are\n",
    "sampled forum posts downloaded from MedHelp, with 180 documents in total. In both files, each line represents\n",
    "a document. You can also find a stopword list in stoplist.txt."
   ]
  },
  {
   "cell_type": "code",
   "execution_count": 1,
   "metadata": {
    "scrolled": true
   },
   "outputs": [
    {
     "name": "stdout",
     "output_type": "stream",
     "text": [
      "[nltk_data] Downloading package punkt to /Users/jarvm/nltk_data...\n",
      "[nltk_data]   Package punkt is already up-to-date!\n",
      "[nltk_data] Downloading package stopwords to /Users/jarvm/nltk_data...\n",
      "[nltk_data]   Package stopwords is already up-to-date!\n",
      "[nltk_data] Downloading package averaged_perceptron_tagger to\n",
      "[nltk_data]     /Users/jarvm/nltk_data...\n",
      "[nltk_data]   Package averaged_perceptron_tagger is already up-to-\n",
      "[nltk_data]       date!\n"
     ]
    }
   ],
   "source": [
    "import nltk\n",
    "from collections import Counter\n",
    "import string\n",
    "import matplotlib.pyplot as plt\n",
    "from six import text_type\n",
    "import numpy as np\n",
    "\n",
    "nltk.download('punkt')\n",
    "nltk.download(\"stopwords\")\n",
    "nltk.download('averaged_perceptron_tagger')\n",
    "\n",
    "with open('ehr.txt') as f:\n",
    "    ehr = f.read()\n",
    "with open('medhelp.txt') as f:\n",
    "    medhelp = f.read()\n",
    "with open('stoplist.txt') as f:\n",
    "    stoplist = f.read().splitlines()\n",
    "punc = set(string.punctuation)\n"
   ]
  },
  {
   "cell_type": "markdown",
   "metadata": {},
   "source": [
    "## Part 1\n",
    "Tokenize the text (e.g. use the nltk.word_tokenize() function in the NLTK package)\n",
    "and compute the frequency of words. Then, plot the frequency distribution of words in each collection after the\n",
    "removal of the stopwords: x-axis - word frequency (number of times a word appears in the collection); y-axis\n",
    "-proportion of words with this frequency. Plot the distributions on a log-log scale. Does each plot look like a\n",
    "power-law distribution? Are the two distributions similar or different?"
   ]
  },
  {
   "cell_type": "code",
   "execution_count": 2,
   "metadata": {},
   "outputs": [
    {
     "data": {
      "image/png": "[encoded data removed]",
      "text/plain": [
       "<matplotlib.figure.Figure at 0x10d6eefd0>"
      ]
     },
     "metadata": {},
     "output_type": "display_data"
    },
    {
     "data": {
      "image/png": "[encoded data removed]",
      "text/plain": [
       "<matplotlib.figure.Figure at 0x10d6eeeb8>"
      ]
     },
     "metadata": {},
     "output_type": "display_data"
    }
   ],
   "source": [
    "ehr_words = nltk.word_tokenize(ehr.lower())\n",
    "med_words = nltk.word_tokenize(medhelp.lower())\n",
    "\n",
    "# remove puncuation\n",
    "ehr_words = [word for word in ehr_words if word not in punc]\n",
    "med_words = [word for word in med_words if word not in punc]\n",
    "\n",
    "\n",
    "\n",
    "def plt_freq_dist(text, **kwargs):\n",
    "    title  = kwargs.pop( 'title'  )\n",
    "    xlabel = kwargs.pop( 'xlabel' )\n",
    "    ylabel = kwargs.pop( 'ylabel' )\n",
    "    important_words = [word for word in text if word not in stoplist]\n",
    "    fdist = Counter(important_words)\n",
    "    samples = [item for item, _ in fdist.most_common()]\n",
    "    freqs = [fdist[sample] for sample in samples]\n",
    "    plt.loglog(np.array(freqs)/np.sum(freqs), **kwargs)\n",
    "    plt.xlabel(xlabel)\n",
    "    plt.ylabel(ylabel)\n",
    "    plt.title(title)\n",
    "    plt.show()\n",
    "\n",
    "enh_labs = {'title': 'ehr word frequency distribution (log log scale)', \"xlabel\": 'log(Frequency value)', 'ylabel': 'log(proportion of words w/ frequency)'}\n",
    "medhelp_labs = {'title': 'medhelp word frequency distribution (log log scale)', \"xlabel\": 'log(Frequency value)', 'ylabel': 'log(proportion of words w/ frequency)'}\n",
    "\n",
    "\n",
    "plt_freq_dist(ehr_words, **enh_labs)\n",
    "plt_freq_dist(med_words, **medhelp_labs)\n",
    "\n"
   ]
  },
  {
   "cell_type": "code",
   "execution_count": null,
   "metadata": {},
   "outputs": [],
   "source": []
  },
  {
   "cell_type": "markdown",
   "metadata": {},
   "source": [
    "### Discussion\n",
    "The distributions look similar. In the medhelp document, the max log(proprotion of words with frequency) is greater than that of ehr. I decided to only use the punctuation in the string argument. This means that there are certain things such as '...' that aren't removed. Also, I did not combine certains combinations of words (list vs lists are treated separately). Lastly, I included both part of separated contractions (can't becomes can and 't'. I keep both). In order to keep as much of the raw data as possible since this is more of an exploratory assignment. "
   ]
  },
  {
   "cell_type": "markdown",
   "metadata": {},
   "source": [
    "## Part 2\n",
    "Now compare the two collections more rigorously. Report the following properties of each\n",
    "collection. Can you explain these differences based on the nature of the two collections? (20 points) (You can\n",
    "use the nltk.pos tag() function of the NLTK package for part of speech tagging.)\n",
    "- (a) frequency of stopwords (percentage of the word occurrences that are stopwords.);\n",
    "- (b) percentage of capital letters;\n",
    "- (c) average number of characters per word;\n",
    "- (d) percentage of nouns, adjectives, verbs, adverbs, and pronouns;\n",
    "- (e) the top 10 nouns, top 10 verbs, and top 10 adjectives"
   ]
  },
  {
   "cell_type": "markdown",
   "metadata": {},
   "source": [
    "#### frequency of stopwords\n",
    "I split each document by spaces, then accumulated the number or occurrences of each stopword in the given stoplist"
   ]
  },
  {
   "cell_type": "code",
   "execution_count": 3,
   "metadata": {},
   "outputs": [
    {
     "name": "stdout",
     "output_type": "stream",
     "text": [
      "enh frequency of stopwords: 0.34723595505617977\n",
      "medhelp frequency of stopwords: 0.5401267490744808\n"
     ]
    }
   ],
   "source": [
    "# enh text\n",
    "counter_ehr = 0\n",
    "counter_medhelp = 0\n",
    "ehrsplit = ehr.lower().split()\n",
    "medsplit = medhelp.lower().split()\n",
    "for stopword in stoplist:\n",
    "    counter_ehr += ehrsplit.count(stopword)\n",
    "    counter_medhelp += medsplit.count(stopword)\n",
    "print(\"enh frequency of stopwords:\", str(counter_ehr / len(ehrsplit)))\n",
    "print(\"medhelp frequency of stopwords:\", str(counter_medhelp / len(medsplit)))\n"
   ]
  },
  {
   "cell_type": "markdown",
   "metadata": {},
   "source": [
    "#### percentage of capital letters\n",
    "\n",
    "For this, I found each capital letter using the *re* module. The denominator is the length of the document minus the number of spaces in the letter. This is an estimate of the total number of letters in the document"
   ]
  },
  {
   "cell_type": "code",
   "execution_count": 4,
   "metadata": {},
   "outputs": [
    {
     "name": "stdout",
     "output_type": "stream",
     "text": [
      "percentage of capital letters in ehr: 6.235090188271234\n",
      "percentage of capital letters in medhelp: 3.2856877668461113\n"
     ]
    }
   ],
   "source": [
    "import re\n",
    "print(\"percentage of capital letters in ehr:\", len(re.findall('[A-Z]',ehr)) / (len(ehr) - ehr.count(' ')) * 100)\n",
    "print(\"percentage of capital letters in medhelp:\", len(re.findall('[A-Z]', medhelp)) / (len(medhelp) - medhelp.count(' ')) * 100)"
   ]
  },
  {
   "cell_type": "markdown",
   "metadata": {},
   "source": [
    "#### average number of characters per word"
   ]
  },
  {
   "cell_type": "code",
   "execution_count": 5,
   "metadata": {},
   "outputs": [
    {
     "name": "stdout",
     "output_type": "stream",
     "text": [
      "average number of chars per word for enh: 5.00260416667\n",
      "average number of chars per word for medhelp: 4.14757092414\n"
     ]
    }
   ],
   "source": [
    "import numpy as np\n",
    "\n",
    "ehr_word_len = np.asarray([len(word) for word in ehr_words])\n",
    "med_word_len = np.asarray([len(word) for word in med_words])\n",
    " \n",
    "print(\"average number of chars per word for enh:\", ehr_word_len.mean())\n",
    "print(\"average number of chars per word for medhelp:\", med_word_len.mean())\n"
   ]
  },
  {
   "cell_type": "markdown",
   "metadata": {},
   "source": [
    "#### percentage of nouns, adjectives, verbs, adverbs, and pronouns;"
   ]
  },
  {
   "cell_type": "code",
   "execution_count": 6,
   "metadata": {},
   "outputs": [],
   "source": [
    "def pos_dict(word_tokens):\n",
    "    word_dict = {}\n",
    "    pos_tokens = nltk.pos_tag(word_tokens)\n",
    "    d = {\"RB\":0, \"JJ\": 0, \"NN\": 0, \"PRP\":0, \"VB\":0}\n",
    "\n",
    "    def build_dict(item, category):\n",
    "            d[category] += 1\n",
    "            try:\n",
    "                word_dict[category].append(item[0])\n",
    "            except:\n",
    "                word_dict[category] = []\n",
    "\n",
    "    for item in pos_tokens:\n",
    "        if \"RB\" in item[1]:\n",
    "            build_dict(item, \"RB\")\n",
    "        elif \"JJ\" in item[1]:\n",
    "            build_dict(item, \"JJ\")\n",
    "        elif \"NN\" in item[1]:\n",
    "            build_dict(item, \"NN\")\n",
    "        elif \"PRP\" in item[1]:\n",
    "            build_dict(item, \"PRP\")\n",
    "        elif \"WP\" in item[1]: # same as PRP\n",
    "            build_dict(item, \"PRP\")\n",
    "        elif \"VB\" in item[1]:\n",
    "            build_dict(item, \"VB\")\n",
    "        else:\n",
    "            pass\n",
    "    return d, word_dict\n"
   ]
  },
  {
   "cell_type": "code",
   "execution_count": 7,
   "metadata": {},
   "outputs": [
    {
     "name": "stdout",
     "output_type": "stream",
     "text": [
      "perc of RB in ehr is: 3.708692528735632\n",
      "perc of JJ in ehr is: 15.445402298850574\n",
      "perc of NN in ehr is: 31.573275862068968\n",
      "perc of PRP in ehr is: 4.014008620689656\n",
      "perc of VB in ehr is: 15.777658045977011\n",
      "\n",
      "\n",
      "perc of RB in medhelp is: 8.297820528430536\n",
      "perc of JJ in medhelp is: 9.101424570802386\n",
      "perc of NN in medhelp is: 21.472056495799343\n",
      "perc of PRP in medhelp is: 8.91269937903324\n",
      "perc of VB in medhelp is: 21.48423231462316\n"
     ]
    }
   ],
   "source": [
    "ehr_pos_dict, ehr_pos_words = pos_dict(ehr_words)\n",
    "ehr_len = len(ehr_words)\n",
    "for key, val in ehr_pos_dict.items():\n",
    "    print(\"perc of %s in ehr is:\" %key, val/ehr_len * 100)\n",
    "print('\\n')\n",
    "medhelp_len = len(med_words)\n",
    "med_pos_dict, med_pos_words = pos_dict(med_words)\n",
    "for key, val in med_pos_dict.items():\n",
    "    print(\"perc of {0} in medhelp is:\".format(key), val/medhelp_len * 100)\n"
   ]
  },
  {
   "cell_type": "markdown",
   "metadata": {},
   "source": [
    "#### the top 10 nouns, top 10 verbs, and top 10 adjectives"
   ]
  },
  {
   "cell_type": "code",
   "execution_count": 8,
   "metadata": {},
   "outputs": [
    {
     "name": "stdout",
     "output_type": "stream",
     "text": [
      "top 10 NN words in ehr:\n",
      " [('pain', 67), ('patient', 66), ('pt', 42), ('history', 34), ('home', 29), ('blood', 29), ('days', 25), ('breath', 22), ('fibrillation', 21), ('weeks', 21)]\n",
      "top 10 VB words in ehr:\n",
      " [('was', 197), ('is', 72), ('had', 71), ('has', 55), ('given', 28), ('were', 27), ('have', 22), ('found', 22), ('be', 22), ('left', 22)]\n",
      "top 10 JJ words in ehr:\n",
      " [('abdominal', 37), ('atrial', 29), ('right', 23), ('last', 23), ('normal', 19), ('past', 17), ('positive', 17), ('old', 17), ('negative', 16), ('recent', 15)]\n",
      "top 10 RB words in ehr:\n",
      " [('not', 56), ('also', 32), ('then', 16), ('when', 16), ('ago', 14), ('right', 13), ('back', 12), ('recently', 12), ('well', 11), ('prior', 10)]\n",
      "top 10 PRP words in ehr:\n",
      " [('she', 171), ('he', 106), ('her', 90), ('his', 39), ('who', 31), ('it', 4), ('their', 1), ('they', 1), ('him', 1), ('heroin', 1)]\n"
     ]
    }
   ],
   "source": [
    "for key, li in ehr_pos_words.items():\n",
    "    print(\"top 10 {} words in ehr:\\n\".format(key), Counter(li).most_common(10))"
   ]
  },
  {
   "cell_type": "code",
   "execution_count": 9,
   "metadata": {},
   "outputs": [
    {
     "name": "stdout",
     "output_type": "stream",
     "text": [
      "top 10 PRP words in medhelp: \n",
      " [('you', 333), ('it', 265), ('my', 201), ('your', 113), ('me', 84), ('he', 73), ('they', 73), ('what', 56), ('we', 34), ('them', 33)]\n",
      "top 10 NN words in medhelp: \n",
      " [('i', 342), ('time', 47), ('day', 28), ('people', 23), ('things', 22), ('weeks', 22), ('days', 21), ('pain', 21), ('doctor', 20), ('body', 18)]\n",
      "top 10 VB words in medhelp: \n",
      " [('is', 232), ('have', 189), ('are', 122), ('be', 117), ('i', 100), ('was', 91), ('do', 90), ('get', 69), ('had', 58), ('am', 57)]\n",
      "top 10 RB words in medhelp: \n",
      " [(\"n't\", 110), ('not', 109), ('so', 82), ('just', 70), ('very', 53), ('really', 44), ('when', 44), ('then', 37), ('now', 37), ('also', 31)]\n",
      "top 10 JJ words in medhelp: \n",
      " [('i', 137), ('good', 33), ('sure', 22), ('other', 21), ('more', 20), ('many', 19), ('normal', 17), ('long', 16), ('few', 14), ('better', 14)]\n"
     ]
    }
   ],
   "source": [
    "for key, li in med_pos_words.items():\n",
    "    print(\"top 10 {} words in medhelp: \\n\".format(key), Counter(li).most_common(10))"
   ]
  },
  {
   "cell_type": "markdown",
   "metadata": {},
   "source": [
    "## Part 3\n",
    "We would like to summarize each document with a few words. However, picking the most\n",
    "frequently used words in each document would be a bad idea, since they are more likely to appear in other\n",
    "document as well. Instead, we pick the words with the highest TF-IDF weights in each document.\n",
    "In this problem, term frequency (TF) and inverse document frequency (IDF) are defined as:\n",
    "- *TF(t, d) = log(c(t, d) + 1)*\n",
    "- *IDF(t) = 1 + log(N/k).*\n",
    "\n",
    "c(t, d) is the frequency count of term t in doc d, N is the total number of documents in the collection, and k is\n",
    "the document frequency of term t in the collection.\n",
    "For each of the first 10 documents in the EHR collection, print out the 5 words that have the highest TF-IDF\n",
    "weights."
   ]
  },
  {
   "cell_type": "markdown",
   "metadata": {},
   "source": [
    "Here, I assumed you meant \"act as if your collection was only 10 documents long, calculate the tdf for each document\" instead of calculate the tdf for each document even though there are 90 and 180 documents total. Thus, $N=10$ for both of my calculations"
   ]
  },
  {
   "cell_type": "code",
   "execution_count": 10,
   "metadata": {},
   "outputs": [
    {
     "name": "stdout",
     "output_type": "stream",
     "text": [
      "Top words in document 1\n",
      "\tWord: some, TF-IDF: 3.62826\n",
      "\tWord: he, TF-IDF: 2.42131\n",
      "\tWord: 78, TF-IDF: 2.28918\n",
      "\tWord: m, TF-IDF: 2.28918\n",
      "\tWord: transferred, TF-IDF: 2.28918\n",
      "Top words in document 2\n",
      "\tWord: elderly, TF-IDF: 2.28918\n",
      "\tWord: past, TF-IDF: 2.28918\n",
      "\tWord: aortic, TF-IDF: 2.28918\n",
      "\tWord: hyperlipidemia, TF-IDF: 2.28918\n",
      "\tWord: hip, TF-IDF: 2.28918\n",
      "Top words in document 3\n",
      "\tWord: hypotension, TF-IDF: 3.62826\n",
      "\tWord: pt, TF-IDF: 3.61745\n",
      "\tWord: on, TF-IDF: 3.08415\n",
      "\tWord: she, TF-IDF: 2.93993\n",
      "\tWord: has, TF-IDF: 2.86676\n",
      "Top words in document 4\n",
      "\tWord: c2, TF-IDF: 3.62826\n",
      "\tWord: fracture, TF-IDF: 3.62826\n",
      "\tWord: when, TF-IDF: 3.62826\n",
      "\tWord: fall, TF-IDF: 3.62826\n",
      "\tWord: patient, TF-IDF: 3.54716\n",
      "Top words in document 5\n",
      "\tWord: status-post, TF-IDF: 3.62826\n",
      "\tWord: atrial, TF-IDF: 3.61745\n",
      "\tWord: 82, TF-IDF: 2.28918\n",
      "\tWord: man, TF-IDF: 2.28918\n",
      "\tWord: chronic, TF-IDF: 2.28918\n",
      "Top words in document 6\n",
      "\tWord: stools, TF-IDF: 3.62826\n",
      "\tWord: abdominal, TF-IDF: 3.61745\n",
      "\tWord: she, TF-IDF: 2.43158\n",
      "\tWord: 94, TF-IDF: 2.28918\n",
      "\tWord: year, TF-IDF: 2.28918\n",
      "Top words in document 7\n",
      "\tWord: his, TF-IDF: 5.31531\n",
      "\tWord: he, TF-IDF: 5.07483\n",
      "\tWord: abdominal, TF-IDF: 4.19973\n",
      "\tWord: episodes, TF-IDF: 3.62826\n",
      "\tWord: vomiting, TF-IDF: 3.62826\n",
      "Top words in document 8\n",
      "\tWord: ago, TF-IDF: 3.62826\n",
      "\tWord: admitted, TF-IDF: 3.62826\n",
      "\tWord: reglan, TF-IDF: 3.62826\n",
      "\tWord: she, TF-IDF: 3.4788\n",
      "\tWord: ivf, TF-IDF: 2.86676\n",
      "Top words in document 9\n",
      "\tWord: delivery, TF-IDF: 5.31531\n",
      "\tWord: mother, TF-IDF: 4.57836\n",
      "\tWord: 678, TF-IDF: 3.62826\n",
      "\tWord: gm, TF-IDF: 3.62826\n",
      "\tWord: notable, TF-IDF: 3.62826\n",
      "Top words in document 10\n",
      "\tWord: unresponsive, TF-IDF: 2.86676\n",
      "\tWord: as, TF-IDF: 2.86676\n",
      "\tWord: ed, TF-IDF: 2.42131\n",
      "\tWord: and, TF-IDF: 2.30259\n",
      "\tWord: 55y/o, TF-IDF: 2.28918\n"
     ]
    }
   ],
   "source": [
    "import math\n",
    "from textblob import TextBlob as tb\n",
    "\n",
    "def tf(word, blob):\n",
    "    return np.log(blob.words.count(word) + 1)\n",
    "\n",
    "def idf(word, bloblist):\n",
    "    N = len(bloblist)\n",
    "    \n",
    "    def num_occurances(word, bloblist):\n",
    "        return (sum(1 for blob in bloblist if word in blob.words))\n",
    "    return 1 + np.log(N / num_occurances(word, bloblist))\n",
    "\n",
    "def tfidf(word, blob, bloblist):\n",
    "    return tf(word, blob) * idf(word, bloblist)\n",
    "\n",
    "with open('ehr.txt') as f:\n",
    "    bloblist = [tb(next(f).lower()) for i in range(10)]\n",
    "    \n",
    "for i, blob in enumerate(bloblist):\n",
    "    print(\"Top words in document {}\".format(i + 1))\n",
    "    scores = {word: tfidf(word, blob, bloblist) for word in blob.words}\n",
    "    sorted_words = sorted(scores.items(), key=lambda x: x[1], reverse=True)\n",
    "    for word, score in sorted_words[:5]:\n",
    "            print(\"\\tWord: {}, TF-IDF: {}\".format(word, round(score, 5)))\n",
    "\n"
   ]
  },
  {
   "cell_type": "code",
   "execution_count": 11,
   "metadata": {},
   "outputs": [
    {
     "name": "stdout",
     "output_type": "stream",
     "text": [
      "Top words in document 1\n",
      "\tWord: MD, TF-IDF: 3.62826\n",
      "\tWord: Your, TF-IDF: 2.28918\n",
      "\tWord: description, TF-IDF: 2.28918\n",
      "\tWord: sound, TF-IDF: 2.28918\n",
      "\tWord: like, TF-IDF: 2.28918\n",
      "\tWord: regular, TF-IDF: 2.28918\n",
      "\tWord: floater, TF-IDF: 2.28918\n",
      "\tWord: Since, TF-IDF: 2.28918\n",
      "\tWord: new, TF-IDF: 2.28918\n",
      "\tWord: problem, TF-IDF: 2.28918\n",
      "Top words in document 2\n",
      "\tWord: BP, TF-IDF: 3.62826\n",
      "\tWord: your, TF-IDF: 2.42131\n",
      "\tWord: is, TF-IDF: 2.3472\n",
      "\tWord: certain, TF-IDF: 2.28918\n",
      "\tWord: weight, TF-IDF: 2.28918\n",
      "\tWord: loss, TF-IDF: 2.28918\n",
      "\tWord: want, TF-IDF: 2.28918\n",
      "\tWord: congratulate, TF-IDF: 2.28918\n",
      "\tWord: getting, TF-IDF: 2.28918\n",
      "\tWord: under, TF-IDF: 2.28918\n",
      "Top words in document 3\n",
      "\tWord: Smoking, TF-IDF: 2.28918\n",
      "\tWord: effect, TF-IDF: 2.28918\n",
      "\tWord: octcome, TF-IDF: 2.28918\n",
      "\tWord: treatment, TF-IDF: 2.28918\n",
      "\tWord: Best, TF-IDF: 1.80872\n",
      "\tWord: will, TF-IDF: 1.52768\n",
      "\tWord: not, TF-IDF: 0.94038\n",
      "\tWord: of, TF-IDF: 0.94038\n",
      "\tWord: you, TF-IDF: 0.94038\n",
      "\tWord: to, TF-IDF: 0.84782\n",
      "Top words in document 4\n",
      "\tWord: He, TF-IDF: 8.20662\n",
      "\tWord: he, TF-IDF: 8.20662\n",
      "\tWord: i, TF-IDF: 6.86753\n",
      "\tWord: him, TF-IDF: 6.42653\n",
      "\tWord: his, TF-IDF: 5.91744\n",
      "\tWord: The, TF-IDF: 5.42617\n",
      "\tWord: has, TF-IDF: 4.67549\n",
      "\tWord: and, TF-IDF: 4.67549\n",
      "\tWord: Of, TF-IDF: 4.57836\n",
      "\tWord: before, TF-IDF: 3.62826\n",
      "Top words in document 5\n",
      "\tWord: it, TF-IDF: 3.05536\n",
      "\tWord: either, TF-IDF: 2.86676\n",
      "\tWord: so, TF-IDF: 2.86676\n",
      "\tWord: you, TF-IDF: 2.43084\n",
      "\tWord: had, TF-IDF: 2.42131\n",
      "\tWord: First, TF-IDF: 2.28918\n",
      "\tWord: received, TF-IDF: 2.28918\n",
      "\tWord: appropriate, TF-IDF: 2.28918\n",
      "\tWord: therapy, TF-IDF: 2.28918\n",
      "\tWord: kill, TF-IDF: 2.28918\n",
      "Top words in document 6\n",
      "\tWord: You, TF-IDF: 3.62826\n",
      "\tWord: time, TF-IDF: 3.62826\n",
      "\tWord: cut, TF-IDF: 3.62826\n",
      "\tWord: was, TF-IDF: 2.86676\n",
      "\tWord: Sir, TF-IDF: 2.28918\n",
      "\tWord: taking, TF-IDF: 2.28918\n",
      "\tWord: answer, TF-IDF: 2.28918\n",
      "\tWord: question, TF-IDF: 2.28918\n",
      "\tWord: paranoid, TF-IDF: 2.28918\n",
      "\tWord: long, TF-IDF: 2.28918\n",
      "Top words in document 7\n",
      "\tWord: The, TF-IDF: 5.73352\n",
      "\tWord: NOT, TF-IDF: 5.31531\n",
      "\tWord: and, TF-IDF: 4.67549\n",
      "\tWord: 's, TF-IDF: 4.57836\n",
      "\tWord: cells, TF-IDF: 4.57836\n",
      "\tWord: were, TF-IDF: 4.57836\n",
      "\tWord: Many, TF-IDF: 4.57836\n",
      "\tWord: many, TF-IDF: 4.57836\n",
      "\tWord: results, TF-IDF: 3.62826\n",
      "\tWord: mean, TF-IDF: 3.62826\n",
      "Top words in document 8\n",
      "\tWord: b, TF-IDF: 3.62826\n",
      "\tWord: doctor, TF-IDF: 2.86676\n",
      "\tWord: would, TF-IDF: 2.42131\n",
      "\tWord: believe, TF-IDF: 2.28918\n",
      "\tWord: ur, TF-IDF: 2.28918\n",
      "\tWord: london, TF-IDF: 2.28918\n",
      "\tWord: friend, TF-IDF: 2.28918\n",
      "\tWord: 2wks, TF-IDF: 2.28918\n",
      "\tWord: after, TF-IDF: 2.28918\n",
      "\tWord: our, TF-IDF: 2.28918\n",
      "Top words in document 9\n",
      "\tWord: We, TF-IDF: 3.62826\n",
      "\tWord: need, TF-IDF: 2.28918\n",
      "\tWord: Hallmark, TF-IDF: 2.28918\n",
      "\tWord: Movie, TF-IDF: 2.28918\n",
      "\tWord: this, TF-IDF: 2.28918\n",
      "\tWord: 've, TF-IDF: 2.28918\n",
      "\tWord: already, TF-IDF: 2.28918\n",
      "\tWord: started, TF-IDF: 2.28918\n",
      "\tWord: crying, TF-IDF: 2.28918\n",
      "\tWord: Yeah, TF-IDF: 2.28918\n",
      "Top words in document 10\n",
      "\tWord: around, TF-IDF: 3.62826\n",
      "\tWord: Would, TF-IDF: 3.62826\n",
      "\tWord: It, TF-IDF: 3.62826\n",
      "\tWord: as, TF-IDF: 3.62826\n",
      "\tWord: who, TF-IDF: 3.62826\n",
      "\tWord: see, TF-IDF: 2.86676\n",
      "\tWord: be, TF-IDF: 2.42131\n",
      "\tWord: would, TF-IDF: 2.42131\n",
      "\tWord: Thanks, TF-IDF: 2.28918\n",
      "\tWord: help, TF-IDF: 2.28918\n"
     ]
    }
   ],
   "source": [
    "with open('medhelp.txt') as f:\n",
    "    bloblist = [tb(next(f)) for i in range(10)]\n",
    "    \n",
    "for i, blob in enumerate(bloblist):\n",
    "    print(\"Top words in document {}\".format(i + 1))\n",
    "    scores = {word: tfidf(word, blob, bloblist) for word in blob.words}\n",
    "    sorted_words = sorted(scores.items(), key=lambda x: x[1], reverse=True)\n",
    "    for word, score in sorted_words[:10]:\n",
    "            print(\"\\tWord: {}, TF-IDF: {}\".format(word, round(score, 5)))\n",
    "\n"
   ]
  },
  {
   "cell_type": "markdown",
   "metadata": {},
   "source": [
    "## Part 4\n",
    "As discussed in the class, TF-IDF is a common way to weight the terms in each document. It\n",
    "can also be easily calculated from the inverted index, since TF can be obtained from the postings and IDF can\n",
    "be summarized as a dictionary. Could you think of another weighting that cannot be calculated directly from\n",
    "inverted index? What is the advantage of such a weighting?"
   ]
  },
  {
   "cell_type": "markdown",
   "metadata": {
    "collapsed": true
   },
   "source": [
    "You can try to weight words using their pointwise mutual information. This can't be calculated directly from the inverted index because we need a number of co-occurences of words together. This is helpful because it can help determine collocated phrases within documents"
   ]
  },
  {
   "cell_type": "code",
   "execution_count": null,
   "metadata": {},
   "outputs": [],
   "source": []
  }
 ],
 "metadata": {
  "kernelspec": {
   "display_name": "Python 3",
   "language": "python",
   "name": "python3"
  },
  "language_info": {
   "codemirror_mode": {
    "name": "ipython",
    "version": 3
   },
   "file_extension": ".py",
   "mimetype": "text/x-python",
   "name": "python",
   "nbconvert_exporter": "python",
   "pygments_lexer": "ipython3",
   "version": "3.6.1"
  }
 },
 "nbformat": 4,
 "nbformat_minor": 2
}
